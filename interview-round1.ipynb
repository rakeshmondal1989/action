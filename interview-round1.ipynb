{
 "cells": [
  {
   "cell_type": "code",
   "execution_count": 1,
   "id": "3caa39d6",
   "metadata": {},
   "outputs": [],
   "source": [
    "import pandas as pd\n",
    "import numpy as np\n",
    "import regex as re\n",
    "import warnings\n",
    "warnings.filterwarnings('ignore')"
   ]
  },
  {
   "cell_type": "code",
   "execution_count": 2,
   "id": "06d8aa9d",
   "metadata": {},
   "outputs": [
    {
     "data": {
      "text/html": [
       "<div>\n",
       "<style scoped>\n",
       "    .dataframe tbody tr th:only-of-type {\n",
       "        vertical-align: middle;\n",
       "    }\n",
       "\n",
       "    .dataframe tbody tr th {\n",
       "        vertical-align: top;\n",
       "    }\n",
       "\n",
       "    .dataframe thead th {\n",
       "        text-align: right;\n",
       "    }\n",
       "</style>\n",
       "<table border=\"1\" class=\"dataframe\">\n",
       "  <thead>\n",
       "    <tr style=\"text-align: right;\">\n",
       "      <th></th>\n",
       "      <th>ID</th>\n",
       "      <th>Gender</th>\n",
       "      <th>Height</th>\n",
       "    </tr>\n",
       "  </thead>\n",
       "  <tbody>\n",
       "    <tr>\n",
       "      <th>0</th>\n",
       "      <td>1</td>\n",
       "      <td>M</td>\n",
       "      <td>5 ft 8 in</td>\n",
       "    </tr>\n",
       "    <tr>\n",
       "      <th>1</th>\n",
       "      <td>2</td>\n",
       "      <td>F</td>\n",
       "      <td>5 ft 4 in</td>\n",
       "    </tr>\n",
       "    <tr>\n",
       "      <th>2</th>\n",
       "      <td>3</td>\n",
       "      <td>M</td>\n",
       "      <td>183 cm</td>\n",
       "    </tr>\n",
       "    <tr>\n",
       "      <th>3</th>\n",
       "      <td>4</td>\n",
       "      <td>F</td>\n",
       "      <td>176 cm</td>\n",
       "    </tr>\n",
       "    <tr>\n",
       "      <th>4</th>\n",
       "      <td>5</td>\n",
       "      <td>M</td>\n",
       "      <td>162 cm</td>\n",
       "    </tr>\n",
       "    <tr>\n",
       "      <th>5</th>\n",
       "      <td>6</td>\n",
       "      <td>F</td>\n",
       "      <td>154 cm</td>\n",
       "    </tr>\n",
       "  </tbody>\n",
       "</table>\n",
       "</div>"
      ],
      "text/plain": [
       "   ID Gender     Height\n",
       "0   1      M  5 ft 8 in\n",
       "1   2      F  5 ft 4 in\n",
       "2   3      M     183 cm\n",
       "3   4      F     176 cm\n",
       "4   5      M     162 cm\n",
       "5   6      F     154 cm"
      ]
     },
     "execution_count": 2,
     "metadata": {},
     "output_type": "execute_result"
    }
   ],
   "source": [
    "df = pd.DataFrame({'ID':[1,2,3,4,5,6],'Gender':['M','F','M','F','M','F'],'Height':['5 ft 8 in','5 ft 4 in','183 cm','176 cm','162 cm',\n",
    "'154 cm']})\n",
    "df"
   ]
  },
  {
   "cell_type": "code",
   "execution_count": 3,
   "id": "4201f3fa",
   "metadata": {},
   "outputs": [],
   "source": [
    "def cust_func(df):\n",
    "    df['Height_ft'] = df['Height'].apply(lambda x: re.split(' ft',x,maxsplit=1)[0])\n",
    "    df['Height_in'] = np.nan\n",
    "    for i in range(len(df)):\n",
    "        if df['Height'][i].endswith('in'):\n",
    "            df['Height_in'][i] = df['Height'][i].replace(df['Height_ft'][i],'').replace('in','').replace('ft','')\n",
    "        else:\n",
    "            df['Height_ft'][i] = df['Height_ft'][i].replace('cm','')\n",
    "    df['Height_ft'] = df['Height_ft'].astype(int)\n",
    "    for i in range(len(df['Height'])):\n",
    "        if df['Height'][i].endswith('in'):\n",
    "            df['Height_ft'][i] = df['Height_ft'][i]*30.46\n",
    "        else:\n",
    "            df['Height_ft'][i] = df['Height_ft'][i]\n",
    "            \n",
    "    df['Height_in'].fillna(0,inplace=True)\n",
    "    df['Height_in'] = pd.to_numeric(df['Height_in'])*2.54\n",
    "    df['Height_ft'] = df['Height_ft']+df['Height_in']\n",
    "    df['Rank'] = df['Height_ft'].rank(method='min')\n",
    "    return df[df['Rank']==df['Rank'].max()-1]"
   ]
  },
  {
   "cell_type": "code",
   "execution_count": 4,
   "id": "9706645c",
   "metadata": {},
   "outputs": [
    {
     "data": {
      "text/html": [
       "<div>\n",
       "<style scoped>\n",
       "    .dataframe tbody tr th:only-of-type {\n",
       "        vertical-align: middle;\n",
       "    }\n",
       "\n",
       "    .dataframe tbody tr th {\n",
       "        vertical-align: top;\n",
       "    }\n",
       "\n",
       "    .dataframe thead th {\n",
       "        text-align: right;\n",
       "    }\n",
       "</style>\n",
       "<table border=\"1\" class=\"dataframe\">\n",
       "  <thead>\n",
       "    <tr style=\"text-align: right;\">\n",
       "      <th></th>\n",
       "      <th>ID</th>\n",
       "      <th>Gender</th>\n",
       "      <th>Height</th>\n",
       "      <th>Height_ft</th>\n",
       "      <th>Height_in</th>\n",
       "      <th>Rank</th>\n",
       "    </tr>\n",
       "  </thead>\n",
       "  <tbody>\n",
       "    <tr>\n",
       "      <th>3</th>\n",
       "      <td>4</td>\n",
       "      <td>F</td>\n",
       "      <td>176 cm</td>\n",
       "      <td>176.0</td>\n",
       "      <td>0.0</td>\n",
       "      <td>5.0</td>\n",
       "    </tr>\n",
       "  </tbody>\n",
       "</table>\n",
       "</div>"
      ],
      "text/plain": [
       "   ID Gender  Height  Height_ft  Height_in  Rank\n",
       "3   4      F  176 cm      176.0        0.0   5.0"
      ]
     },
     "execution_count": 4,
     "metadata": {},
     "output_type": "execute_result"
    }
   ],
   "source": [
    "cust_func(df)"
   ]
  },
  {
   "cell_type": "code",
   "execution_count": 5,
   "id": "6272d42f",
   "metadata": {},
   "outputs": [
    {
     "name": "stdout",
     "output_type": "stream",
     "text": [
      "[2, 3, 5, 1, 2, 4, 6]\n"
     ]
    }
   ],
   "source": [
    "a = [[2,3,5],[1,2,4,6]]\n",
    "new_list = []\n",
    "for i in a:\n",
    "    for j in i:\n",
    "        new_list.append(j)\n",
    "print(new_list)"
   ]
  },
  {
   "cell_type": "code",
   "execution_count": 6,
   "id": "3cf3a9f7",
   "metadata": {},
   "outputs": [
    {
     "name": "stdout",
     "output_type": "stream",
     "text": [
      "[2, 3, 5, 1, 2, 4, 6, 2, 5, 7, 12, 13]\n"
     ]
    }
   ],
   "source": [
    "a = [[2,3,5],[1,2,4,6],[2,5,7,[12,13]]]\n",
    "new_list = []\n",
    "for i in a:\n",
    "    for j in i:\n",
    "        new_list.append(j)\n",
    "        if type(j)==list:\n",
    "            new_list.remove(j)\n",
    "            for k in j:\n",
    "                new_list.append(k)\n",
    "                \n",
    "print(new_list)"
   ]
  },
  {
   "cell_type": "code",
   "execution_count": null,
   "id": "e65d0764",
   "metadata": {},
   "outputs": [],
   "source": []
  }
 ],
 "metadata": {
  "kernelspec": {
   "display_name": "Python 3 (ipykernel)",
   "language": "python",
   "name": "python3"
  },
  "language_info": {
   "codemirror_mode": {
    "name": "ipython",
    "version": 3
   },
   "file_extension": ".py",
   "mimetype": "text/x-python",
   "name": "python",
   "nbconvert_exporter": "python",
   "pygments_lexer": "ipython3",
   "version": "3.11.5"
  }
 },
 "nbformat": 4,
 "nbformat_minor": 5
}
